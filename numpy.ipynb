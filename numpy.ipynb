{
 "cells": [
  {
   "cell_type": "code",
   "execution_count": 2,
   "metadata": {
    "collapsed": false
   },
   "outputs": [],
   "source": [
    "import numpy as np"
   ]
  },
  {
   "cell_type": "code",
   "execution_count": 38,
   "metadata": {
    "collapsed": false
   },
   "outputs": [],
   "source": [
    "array1 = np.arange(10,200,2)\n",
    "array2 = np.arange(-1,30,0.5)\n"
   ]
  },
  {
   "cell_type": "code",
   "execution_count": 42,
   "metadata": {
    "collapsed": false
   },
   "outputs": [
    {
     "name": "stdout",
     "output_type": "stream",
     "text": [
      "[  10.    12.    14.    16.    18.    20.    22.    24.    26.    28.    30.\n",
      "   32.    34.    36.    38.    40.    42.    44.    46.    48.    50.    52.\n",
      "   54.    56.    58.    60.    62.    64.    66.    68.    70.    72.    74.\n",
      "   76.    78.    80.    82.    84.    86.    88.    90.    92.    94.    96.\n",
      "   98.   100.   102.   104.   106.   108.   110.   112.   114.   116.   118.\n",
      "  120.   122.   124.   126.   128.   130.   132.   134.   136.   138.   140.\n",
      "  142.   144.   146.   148.   150.   152.   154.   156.   158.   160.   162.\n",
      "  164.   166.   168.   170.   172.   174.   176.   178.   180.   182.   184.\n",
      "  186.   188.   190.   192.   194.   196.   198.    -1.    -0.5    0.\n",
      "    0.5    1.     1.5    2.     2.5    3.     3.5    4.     4.5    5.\n",
      "    5.5    6.     6.5    7.     7.5    8.     8.5    9.     9.5   10.\n",
      "   10.5   11.    11.5   12.    12.5   13.    13.5   14.    14.5   15.\n",
      "   15.5   16.    16.5   17.    17.5   18.    18.5   19.    19.5   20.\n",
      "   20.5   21.    21.5   22.    22.5   23.    23.5   24.    24.5   25.\n",
      "   25.5   26.    26.5   27.    27.5   28.    28.5   29.    29.5]\n"
     ]
    }
   ],
   "source": [
    "cat_array = np.concatenate((array1,array2))\n",
    "print(cat_array)"
   ]
  },
  {
   "cell_type": "code",
   "execution_count": 23,
   "metadata": {
    "collapsed": false
   },
   "outputs": [
    {
     "data": {
      "text/plain": [
       "array([100, 144, 196, 256, 324])"
      ]
     },
     "execution_count": 23,
     "metadata": {},
     "output_type": "execute_result"
    }
   ],
   "source": [
    "array1 ** 2"
   ]
  },
  {
   "cell_type": "code",
   "execution_count": 32,
   "metadata": {
    "collapsed": false
   },
   "outputs": [
    {
     "data": {
      "text/plain": [
       "array([  0.00000000e+00,   1.62206002e-01,   3.24412003e-01, ...,\n",
       "         1.99675588e+02,   1.99837794e+02,   2.00000000e+02])"
      ]
     },
     "execution_count": 32,
     "metadata": {},
     "output_type": "execute_result"
    }
   ],
   "source": [
    "np.linspace(0,200,1234) # for linear spacing between two endpoints"
   ]
  },
  {
   "cell_type": "code",
   "execution_count": 33,
   "metadata": {
    "collapsed": false
   },
   "outputs": [
    {
     "data": {
      "text/plain": [
       "array([    1.        ,     5.62341325,    31.6227766 ,   177.827941  ,\n",
       "        1000.        ])"
      ]
     },
     "execution_count": 33,
     "metadata": {},
     "output_type": "execute_result"
    }
   ],
   "source": [
    "np.logspace(0, 3, 5)"
   ]
  },
  {
   "cell_type": "code",
   "execution_count": 41,
   "metadata": {
    "collapsed": false
   },
   "outputs": [
    {
     "data": {
      "text/plain": [
       "array([ 10. ,  12. ,  14. ,  16. ,  18. ,  20. ,  22. ,  24. ,  26. ,\n",
       "        28. ,  30. ,  32. ,  34. ,  36. ,  38. ,  40. ,  42. ,  44. ,\n",
       "        46. ,  48. ,  -1. ,  -0.5,   0. ,   0.5,   1. ,   1.5,   2. ,\n",
       "         2.5,   3. ,   3.5,   4. ,   4.5,   5. ,   5.5,   6. ,   6.5,\n",
       "         7. ,   7.5,   8. ,   8.5,   9. ,   9.5,  10. ,  10.5,  11. ,\n",
       "        11.5,  12. ,  12.5,  13. ,  13.5,  14. ,  14.5,  15. ,  15.5,\n",
       "        16. ,  16.5,  17. ,  17.5,  18. ,  18.5,  19. ,  19.5,  20. ,\n",
       "        20.5,  21. ,  21.5,  22. ,  22.5,  23. ,  23.5,  24. ,  24.5,\n",
       "        25. ,  25.5,  26. ,  26.5,  27. ,  27.5,  28. ,  28.5,  29. ,  29.5])"
      ]
     },
     "execution_count": 41,
     "metadata": {},
     "output_type": "execute_result"
    }
   ],
   "source": [
    "cat_array[cat_array < 50]"
   ]
  },
  {
   "cell_type": "code",
   "execution_count": 45,
   "metadata": {
    "collapsed": false
   },
   "outputs": [
    {
     "data": {
      "text/plain": [
       "array([  0,   1,   2,   3,   4,   5,   6,   7,   8,   9,  10,  11,  12,\n",
       "        13,  14,  15,  16,  17,  18,  19,  95,  96,  97,  98,  99, 100,\n",
       "       101, 102, 103, 104, 105, 106, 107, 108, 109, 110, 111, 112, 113,\n",
       "       114, 115, 116, 117, 118, 119, 120, 121, 122, 123, 124, 125, 126,\n",
       "       127, 128, 129, 130, 131, 132, 133, 134, 135, 136, 137, 138, 139,\n",
       "       140, 141, 142, 143, 144, 145, 146, 147, 148, 149, 150, 151, 152,\n",
       "       153, 154, 155, 156])"
      ]
     },
     "execution_count": 45,
     "metadata": {},
     "output_type": "execute_result"
    }
   ],
   "source": [
    "np.where(cat_array < 50) [0]"
   ]
  },
  {
   "cell_type": "code",
   "execution_count": 47,
   "metadata": {
    "collapsed": false
   },
   "outputs": [],
   "source": [
    "array3 = array1 / 2"
   ]
  },
  {
   "cell_type": "code",
   "execution_count": 49,
   "metadata": {
    "collapsed": false
   },
   "outputs": [
    {
     "data": {
      "text/plain": [
       "array([  15.,   18.,   21.,   24.,   27.,   30.,   33.,   36.,   39.,\n",
       "         42.,   45.,   48.,   51.,   54.,   57.,   60.,   63.,   66.,\n",
       "         69.,   72.,   75.,   78.,   81.,   84.,   87.,   90.,   93.,\n",
       "         96.,   99.,  102.,  105.,  108.,  111.,  114.,  117.,  120.,\n",
       "        123.,  126.,  129.,  132.,  135.,  138.,  141.,  144.,  147.,\n",
       "        150.,  153.,  156.,  159.,  162.,  165.,  168.,  171.,  174.,\n",
       "        177.,  180.,  183.,  186.,  189.,  192.,  195.,  198.,  201.,\n",
       "        204.,  207.,  210.,  213.,  216.,  219.,  222.,  225.,  228.,\n",
       "        231.,  234.,  237.,  240.,  243.,  246.,  249.,  252.,  255.,\n",
       "        258.,  261.,  264.,  267.,  270.,  273.,  276.,  279.,  282.,\n",
       "        285.,  288.,  291.,  294.,  297.])"
      ]
     },
     "execution_count": 49,
     "metadata": {},
     "output_type": "execute_result"
    }
   ],
   "source": [
    "array3 + array1"
   ]
  },
  {
   "cell_type": "code",
   "execution_count": 50,
   "metadata": {
    "collapsed": true
   },
   "outputs": [],
   "source": [
    "randarray = np.random.randint(0,100, 20)"
   ]
  },
  {
   "cell_type": "code",
   "execution_count": 51,
   "metadata": {
    "collapsed": false
   },
   "outputs": [
    {
     "data": {
      "text/plain": [
       "array([76, 77,  3,  0, 63, 16, 78, 94, 86, 67, 60, 72, 60, 90, 24, 97, 85,\n",
       "       99, 86, 48])"
      ]
     },
     "execution_count": 51,
     "metadata": {},
     "output_type": "execute_result"
    }
   ],
   "source": [
    "randarray"
   ]
  },
  {
   "cell_type": "code",
   "execution_count": null,
   "metadata": {
    "collapsed": true
   },
   "outputs": [],
   "source": []
  },
  {
   "cell_type": "code",
   "execution_count": 53,
   "metadata": {
    "collapsed": false
   },
   "outputs": [
    {
     "name": "stdout",
     "output_type": "stream",
     "text": [
      "99\n",
      "0\n",
      "64.05\n",
      "1281\n"
     ]
    }
   ],
   "source": [
    "print(randarray.max())\n",
    "print(randarray.min())\n",
    "print(randarray.mean())\n",
    "print(randarray.sum())"
   ]
  },
  {
   "cell_type": "code",
   "execution_count": 56,
   "metadata": {
    "collapsed": false
   },
   "outputs": [
    {
     "name": "stdout",
     "output_type": "stream",
     "text": [
      "[  76  153  156  156  219  235  313  407  493  560  620  692  752  842  866\n",
      "  963 1048 1147 1233 1281]\n"
     ]
    }
   ],
   "source": [
    "print(randarray.cumsum())"
   ]
  },
  {
   "cell_type": "code",
   "execution_count": 63,
   "metadata": {
    "collapsed": false
   },
   "outputs": [
    {
     "data": {
      "text/plain": [
       "3"
      ]
     },
     "execution_count": 63,
     "metadata": {},
     "output_type": "execute_result"
    }
   ],
   "source": [
    "np.argmin(randarray)"
   ]
  },
  {
   "cell_type": "code",
   "execution_count": 58,
   "metadata": {
    "collapsed": false
   },
   "outputs": [
    {
     "data": {
      "text/plain": [
       "3"
      ]
     },
     "execution_count": 58,
     "metadata": {},
     "output_type": "execute_result"
    }
   ],
   "source": [
    "randarray.argmin()"
   ]
  },
  {
   "cell_type": "code",
   "execution_count": 64,
   "metadata": {
    "collapsed": false
   },
   "outputs": [
    {
     "data": {
      "text/plain": [
       "array([ 0.,  0.,  0.,  0.,  0.,  0.,  0.,  0.,  0.,  0.,  0.,  0.,  0.,\n",
       "        0.,  0.,  0.,  0.,  0.,  0.,  0.,  0.,  0.,  0.,  0.,  0.,  0.,\n",
       "        0.,  0.,  0.,  0.,  0.,  0.,  0.,  0.,  0.,  0.,  0.,  0.,  0.,\n",
       "        0.,  0.,  0.,  0.,  0.,  0.,  0.,  0.,  0.,  0.,  0.,  0.,  0.,\n",
       "        0.,  0.,  0.,  0.,  0.,  0.,  0.,  0.,  0.,  0.,  0.,  0.,  0.,\n",
       "        0.,  0.,  0.,  0.,  0.,  0.,  0.,  0.,  0.,  0.,  0.,  0.,  0.,\n",
       "        0.,  0.,  0.,  0.,  0.,  0.,  0.,  0.,  0.,  0.,  0.,  0.,  0.,\n",
       "        0.,  0.,  0.,  0.,  0.,  0.,  0.,  0.,  0.])"
      ]
     },
     "execution_count": 64,
     "metadata": {},
     "output_type": "execute_result"
    }
   ],
   "source": [
    "np.zeros(100)"
   ]
  },
  {
   "cell_type": "code",
   "execution_count": 65,
   "metadata": {
    "collapsed": false
   },
   "outputs": [
    {
     "data": {
      "text/plain": [
       "array([[ 1.,  1.,  1.,  1.,  1.,  1.,  1.,  1.,  1.,  1.,  1.,  1.,  1.,\n",
       "         1.,  1.,  1.,  1.,  1.,  1.,  1.],\n",
       "       [ 1.,  1.,  1.,  1.,  1.,  1.,  1.,  1.,  1.,  1.,  1.,  1.,  1.,\n",
       "         1.,  1.,  1.,  1.,  1.,  1.,  1.],\n",
       "       [ 1.,  1.,  1.,  1.,  1.,  1.,  1.,  1.,  1.,  1.,  1.,  1.,  1.,\n",
       "         1.,  1.,  1.,  1.,  1.,  1.,  1.],\n",
       "       [ 1.,  1.,  1.,  1.,  1.,  1.,  1.,  1.,  1.,  1.,  1.,  1.,  1.,\n",
       "         1.,  1.,  1.,  1.,  1.,  1.,  1.],\n",
       "       [ 1.,  1.,  1.,  1.,  1.,  1.,  1.,  1.,  1.,  1.,  1.,  1.,  1.,\n",
       "         1.,  1.,  1.,  1.,  1.,  1.,  1.]])"
      ]
     },
     "execution_count": 65,
     "metadata": {},
     "output_type": "execute_result"
    }
   ],
   "source": [
    "np.ones((5,20))"
   ]
  },
  {
   "cell_type": "code",
   "execution_count": 67,
   "metadata": {
    "collapsed": false
   },
   "outputs": [
    {
     "data": {
      "text/plain": [
       "['Uber-Jan-Feb-FOIL.csv']"
      ]
     },
     "execution_count": 67,
     "metadata": {},
     "output_type": "execute_result"
    }
   ],
   "source": [
    "import os\n",
    "os.listdir(\"./data\")"
   ]
  },
  {
   "cell_type": "code",
   "execution_count": 83,
   "metadata": {
    "collapsed": false
   },
   "outputs": [],
   "source": [
    "uber_data = np.genfromtxt(\"./data/Uber-Jan-Feb-FOIL.csv\", delimiter=\",\", unpack=True, dtype=str, skip_header=True)"
   ]
  },
  {
   "cell_type": "code",
   "execution_count": 86,
   "metadata": {
    "collapsed": true
   },
   "outputs": [],
   "source": [
    "dates = uber_data[1]\n",
    "trips = uber_data[3]"
   ]
  },
  {
   "cell_type": "code",
   "execution_count": 91,
   "metadata": {
    "collapsed": false
   },
   "outputs": [
    {
     "data": {
      "text/plain": [
       "9457.8792622283399"
      ]
     },
     "execution_count": 91,
     "metadata": {},
     "output_type": "execute_result"
    }
   ],
   "source": [
    "trips[dates == '1/1/2015'].astype(int).std()"
   ]
  },
  {
   "cell_type": "code",
   "execution_count": null,
   "metadata": {
    "collapsed": true
   },
   "outputs": [],
   "source": []
  }
 ],
 "metadata": {
  "kernelspec": {
   "display_name": "Python 3",
   "language": "python",
   "name": "python3"
  },
  "language_info": {
   "codemirror_mode": {
    "name": "ipython",
    "version": 3
   },
   "file_extension": ".py",
   "mimetype": "text/x-python",
   "name": "python",
   "nbconvert_exporter": "python",
   "pygments_lexer": "ipython3",
   "version": "3.5.2"
  }
 },
 "nbformat": 4,
 "nbformat_minor": 1
}
