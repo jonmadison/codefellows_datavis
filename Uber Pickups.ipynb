{
 "cells": [
  {
   "cell_type": "markdown",
   "metadata": {},
   "source": [
    "# Uber Pickups"
   ]
  },
  {
   "cell_type": "markdown",
   "metadata": {},
   "source": [
    "I've assumed that the data is sorted by date properly..."
   ]
  },
  {
   "cell_type": "code",
   "execution_count": 1,
   "metadata": {
    "collapsed": true
   },
   "outputs": [],
   "source": [
    "import csv"
   ]
  },
  {
   "cell_type": "markdown",
   "metadata": {},
   "source": [
    "## Average number of active vehicles"
   ]
  },
  {
   "cell_type": "code",
   "execution_count": 2,
   "metadata": {
    "collapsed": false
   },
   "outputs": [
    {
     "name": "stdout",
     "output_type": "stream",
     "text": [
      "Average number of vehicles for  353  rows of data:  1311\n"
     ]
    }
   ],
   "source": [
    "data = {}\n",
    "sum_active_vehicles = 0\n",
    "\n",
    "with open('data/Uber-Jan-Feb-FOIL.csv', newline='', encoding='utf_8') as f:\n",
    "    reader = csv.reader(f)\n",
    "    content = list(reader)\n",
    "    content = content[1:]\n",
    "    \n",
    "for idx, row in enumerate(content):\n",
    "    sum_active_vehicles = int(row[2]) + sum_active_vehicles\n",
    "    \n",
    "avg = int(sum_active_vehicles / idx)\n",
    "print (\"Average number of vehicles for \", idx, \" rows of data: \", avg)"
   ]
  },
  {
   "cell_type": "markdown",
   "metadata": {},
   "source": [
    "## Average number of trips per each day"
   ]
  },
  {
   "cell_type": "code",
   "execution_count": 3,
   "metadata": {
    "collapsed": false,
    "scrolled": true
   },
   "outputs": [
    {
     "name": "stdout",
     "output_type": "stream",
     "text": [
      "{'1/18/2015': 12078, '1/6/2015': 8737, '1/15/2015': 11121, '1/13/2015': 10583, '1/31/2015': 15376, '1/9/2015': 11716, '1/12/2015': 9607, '2/18/2015': 12040, '2/4/2015': 11139, '2/17/2015': 12175, '2/1/2015': 12818, '1/20/2015': 9128, '1/27/2015': 4207, '2/10/2015': 10794, '1/5/2015': 7125, '2/25/2015': 12448, '2/3/2015': 11698, '1/23/2015': 11969, '2/15/2015': 14900, '1/25/2015': 9649, '1/21/2015': 9857, '2/27/2015': 14801, '1/19/2015': 7625, '2/16/2015': 12016, '2/8/2015': 10500, '2/22/2015': 11073, '1/2/2015': 6531, '1/28/2015': 10074, '2/5/2015': 13485, '2/19/2015': 14792, '2/21/2015': 16396, '2/20/2015': 16819, '1/22/2015': 10933, '2/13/2015': 16337, '1/7/2015': 10350, '1/17/2015': 12227, '2/24/2015': 13185, '1/14/2015': 10554, '2/11/2015': 12078, '1/8/2015': 11902, '2/28/2015': 7753, '2/2/2015': 11496, '1/11/2015': 9504, '2/9/2015': 10326, '2/23/2015': 11869, '2/14/2015': 16724, '1/29/2015': 11499, '2/7/2015': 13526, '1/30/2015': 13953, '2/12/2015': 13872, '2/26/2015': 13928, '1/1/2015': 9406, '2/6/2015': 14323, '1/4/2015': 6799, '1/26/2015': 7232, '1/10/2015': 13080, '1/3/2015': 9741, '1/16/2015': 12080, '1/24/2015': 13451}\n"
     ]
    }
   ],
   "source": [
    "avg_trips_for_day = {}\n",
    "#set up a dict consisting of day and total trips\n",
    "#iterate through file, get date\n",
    "total_trips = 0\n",
    "date_trips = []\n",
    "for idx,row in enumerate(content):\n",
    "    current_day = row[1]\n",
    "    last_row = content[idx-1]\n",
    "    last_day = last_row[1]\n",
    "    last_trips = last_row[3]\n",
    "    #print(last_day, last_trips)\n",
    "    date_trips.append(int(last_trips))\n",
    "    if(last_day != current_day): #tally last row's results\n",
    "        total_trips = sum(date_trips)\n",
    "        average_trips = int(total_trips / len(date_trips))\n",
    "        avg_trips_for_day[last_day] = average_trips\n",
    "        #print(last_day, total_trips, average_trips)\n",
    "        date_trips = []\n",
    "\n",
    "print(avg_trips_for_day)"
   ]
  },
  {
   "cell_type": "markdown",
   "metadata": {},
   "source": [
    "## Average number of trips per day\n"
   ]
  },
  {
   "cell_type": "code",
   "execution_count": 4,
   "metadata": {
    "collapsed": false
   },
   "outputs": [
    {
     "name": "stdout",
     "output_type": "stream",
     "text": [
      "11549\n"
     ]
    }
   ],
   "source": [
    "print (round(sum(avg_trips_for_day.values()) / len(avg_trips_for_day)))"
   ]
  },
  {
   "cell_type": "markdown",
   "metadata": {},
   "source": [
    "## Active number of vehicles per dispatching base per day"
   ]
  },
  {
   "cell_type": "code",
   "execution_count": 5,
   "metadata": {
    "collapsed": true
   },
   "outputs": [],
   "source": [
    "import operator\n"
   ]
  },
  {
   "cell_type": "code",
   "execution_count": 6,
   "metadata": {
    "collapsed": true
   },
   "outputs": [],
   "source": [
    "content_sorted_base = sorted(content, key=lambda row: row[0])"
   ]
  },
  {
   "cell_type": "code",
   "execution_count": 7,
   "metadata": {
    "collapsed": false
   },
   "outputs": [
    {
     "name": "stdout",
     "output_type": "stream",
     "text": [
      "{'B02765': 747, 'B02512': 222, 'B02598': 994, 'B02617': 1351, 'B02764': 3682, 'B02682': 1210}\n"
     ]
    }
   ],
   "source": [
    "vehicles_per_base_per_day = {}\n",
    "#set up a dict consisting of day and total trips\n",
    "total_vehicles = 0\n",
    "base_vehicles = []\n",
    "for idx,row in enumerate(content_sorted_base):\n",
    "    current_base = row[0]\n",
    "    last_row = content_sorted_base[idx-1]\n",
    "    last_base = last_row[0]\n",
    "    last_active_vehicles = last_row[2]\n",
    "    #print(last_base, last_active_vehicles)\n",
    "    base_vehicles.append(int(last_active_vehicles))\n",
    "    if(last_base != current_base): #tally last row's results\n",
    "        total_vehicles = sum(base_vehicles)\n",
    "        average_vehicles = int(total_vehicles / len(base_vehicles))\n",
    "        #print(last_base, total_vehicles, average_vehicles)\n",
    "        vehicles_per_base_per_day[last_base] = average_vehicles\n",
    "        base_vehicles = []\n",
    "\n",
    "print(vehicles_per_base_per_day)"
   ]
  },
  {
   "cell_type": "markdown",
   "metadata": {},
   "source": [
    "## Average number of trips per vehicle per day"
   ]
  },
  {
   "cell_type": "code",
   "execution_count": 8,
   "metadata": {
    "collapsed": false,
    "scrolled": true
   },
   "outputs": [
    {
     "name": "stdout",
     "output_type": "stream",
     "text": [
      "{'1/18/2015': 10, '1/6/2015': 7, '1/15/2015': 8, '1/13/2015': 8, '1/31/2015': 11, '1/9/2015': 8, '1/12/2015': 7, '2/18/2015': 8, '2/4/2015': 8, '2/17/2015': 8, '2/1/2015': 9, '1/20/2015': 7, '1/27/2015': 7, '2/10/2015': 8, '1/5/2015': 6, '2/25/2015': 8, '2/3/2015': 8, '1/23/2015': 8, '2/15/2015': 11, '1/25/2015': 8, '1/21/2015': 7, '2/27/2015': 9, '1/19/2015': 7, '2/16/2015': 9, '2/8/2015': 8, '2/22/2015': 8, '1/2/2015': 6, '1/28/2015': 7, '2/5/2015': 9, '2/19/2015': 9, '2/21/2015': 11, '2/20/2015': 10, '1/22/2015': 7, '2/13/2015': 10, '1/7/2015': 8, '1/17/2015': 9, '2/24/2015': 9, '1/14/2015': 8, '2/11/2015': 8, '1/8/2015': 8, '2/28/2015': 10, '2/2/2015': 9, '1/11/2015': 8, '2/9/2015': 8, '2/23/2015': 8, '2/14/2015': 11, '1/29/2015': 8, '2/7/2015': 9, '1/30/2015': 9, '2/12/2015': 9, '2/26/2015': 9, '1/1/2015': 8, '2/6/2015': 9, '1/4/2015': 6, '1/26/2015': 6, '1/10/2015': 10, '1/3/2015': 8, '1/16/2015': 8, '1/24/2015': 10}\n"
     ]
    }
   ],
   "source": [
    "avg_trips_per_vehicle_per_day = {}\n",
    "#set up a dict consisting of day and total trips\n",
    "#iterate through file, get date\n",
    "total_trips = 0\n",
    "date_trips = []\n",
    "for idx,row in enumerate(content):\n",
    "    current_day = row[1]\n",
    "    last_row = content[idx-1]\n",
    "    last_day = last_row[1]\n",
    "    last_active_vehicles = last_row[2]\n",
    "    last_trips = last_row[3]\n",
    "    #print(last_day, last_trips)\n",
    "    date_trips.append([int(last_active_vehicles), int(last_trips)])\n",
    "    #print(date_trips)\n",
    "    if(last_day != current_day): \n",
    "        #total_trips = sum(date_trips)\n",
    "        #average_trips = int(total_trips / len(date_trips))\n",
    "        #avg_trips_for_day[last_day] = average_trips\n",
    "        #print(last_day, total_trips, average_trips)\n",
    "        trips_cnt = 0\n",
    "        vehicle_cnt = 0\n",
    "        for item in date_trips:\n",
    "            #print (item)\n",
    "            trips_cnt = trips_cnt + item[1]\n",
    "            vehicle_cnt = vehicle_cnt + item[0]\n",
    "            avg = int(trips_cnt/ vehicle_cnt)\n",
    "            avg_trips_per_vehicle_per_day[last_day] = avg\n",
    "        date_trips = []\n",
    "\n",
    "print(avg_trips_per_vehicle_per_day)"
   ]
  },
  {
   "cell_type": "code",
   "execution_count": 9,
   "metadata": {
    "collapsed": false
   },
   "outputs": [],
   "source": [
    "avg = (sum(avg_trips_per_vehicle_per_day.values()) / len(avg_trips_per_vehicle_per_day))"
   ]
  },
  {
   "cell_type": "markdown",
   "metadata": {},
   "source": [
    "## Standard deviation in active vehicles per day"
   ]
  },
  {
   "cell_type": "code",
   "execution_count": 10,
   "metadata": {
    "collapsed": false
   },
   "outputs": [],
   "source": [
    "list_trips = list(avg_trips_per_vehicle_per_day.values())"
   ]
  },
  {
   "cell_type": "code",
   "execution_count": 11,
   "metadata": {
    "collapsed": false
   },
   "outputs": [],
   "source": [
    "total_dev = sum([(num - avg)**2 for num in list_trips])"
   ]
  },
  {
   "cell_type": "code",
   "execution_count": 15,
   "metadata": {
    "collapsed": false
   },
   "outputs": [
    {
     "name": "stdout",
     "output_type": "stream",
     "text": [
      "89.52542372881354\n"
     ]
    }
   ],
   "source": [
    "print(total_dev)"
   ]
  },
  {
   "cell_type": "code",
   "execution_count": 13,
   "metadata": {
    "collapsed": false
   },
   "outputs": [],
   "source": [
    "std_dev = ((1.0 / len(list_trips)) * total_dev)**0.5"
   ]
  },
  {
   "cell_type": "code",
   "execution_count": 16,
   "metadata": {
    "collapsed": false
   },
   "outputs": [
    {
     "name": "stdout",
     "output_type": "stream",
     "text": [
      "1.2318198176682453\n"
     ]
    }
   ],
   "source": [
    "print(std_dev)"
   ]
  },
  {
   "cell_type": "code",
   "execution_count": null,
   "metadata": {
    "collapsed": true
   },
   "outputs": [],
   "source": []
  }
 ],
 "metadata": {
  "kernelspec": {
   "display_name": "Python 3",
   "language": "python",
   "name": "python3"
  },
  "language_info": {
   "codemirror_mode": {
    "name": "ipython",
    "version": 3
   },
   "file_extension": ".py",
   "mimetype": "text/x-python",
   "name": "python",
   "nbconvert_exporter": "python",
   "pygments_lexer": "ipython3",
   "version": "3.5.2"
  }
 },
 "nbformat": 4,
 "nbformat_minor": 1
}
